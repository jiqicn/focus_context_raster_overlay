{
 "cells": [
  {
   "cell_type": "code",
   "execution_count": 54,
   "id": "continental-alert",
   "metadata": {},
   "outputs": [],
   "source": [
    "import numpy as np\n",
    "import xarray as xr\n",
    "import matplotlib.pyplot as plt\n",
    "import os\n",
    "from pyproj import Transformer"
   ]
  },
  {
   "cell_type": "code",
   "execution_count": 87,
   "id": "respiratory-agency",
   "metadata": {},
   "outputs": [
    {
     "name": "stdout",
     "output_type": "stream",
     "text": [
      "(640, 640)\n"
     ]
    }
   ],
   "source": [
    "target_file_path = \"/Users/jqi/Workspace/Raster Overlay/Data/Target variables/VIR/NLDHL_RBC_20191002T0000.nc\"\n",
    "\n",
    "with xr.open_dataset(target_file_path) as ds_disk:\n",
    "    print(ds_disk.VIR.values.shape)\n",
    "    x = ds_disk.x.values\n",
    "    y = ds_disk.y.values\n",
    "    x_min = np.min(x)\n",
    "    y_min = np.min(y)\n",
    "    x_max = np.max(x)\n",
    "    y_max = np.max(y)"
   ]
  },
  {
   "cell_type": "code",
   "execution_count": 71,
   "id": "developed-payment",
   "metadata": {},
   "outputs": [
    {
     "name": "stdout",
     "output_type": "stream",
     "text": [
      "52.08009971573631 3.364911483612962\n",
      "53.809295140801815 6.235028816374832\n"
     ]
    }
   ],
   "source": [
    "transformer = Transformer.from_crs(\"epsg:3857\", \"epsg:4326\")\n",
    "\n",
    "lat_min, lon_min = transformer.transform(x_min, y_min)\n",
    "lat_max, lon_max = transformer.transform(x_max, y_max)\n",
    "\n",
    "print(lat_min, lon_min)\n",
    "print(lat_max, lon_max)"
   ]
  },
  {
   "cell_type": "code",
   "execution_count": 83,
   "id": "satisfied-stadium",
   "metadata": {},
   "outputs": [
    {
     "name": "stdout",
     "output_type": "stream",
     "text": [
      "(24, 8, 12)\n"
     ]
    }
   ],
   "source": [
    "condition_file_path = \"/Users/jqi/Workspace/Raster Overlay/Data/Condition variables/Temperature and Wind/weather.nc\"\n",
    "\n",
    "with xr.open_dataset(condition_file_path) as ds_disk:\n",
    "    print(ds_disk.t.values.shape)"
   ]
  }
 ],
 "metadata": {
  "kernelspec": {
   "display_name": "Python 3",
   "language": "python",
   "name": "python3"
  },
  "language_info": {
   "codemirror_mode": {
    "name": "ipython",
    "version": 3
   },
   "file_extension": ".py",
   "mimetype": "text/x-python",
   "name": "python",
   "nbconvert_exporter": "python",
   "pygments_lexer": "ipython3",
   "version": "3.7.5"
  }
 },
 "nbformat": 4,
 "nbformat_minor": 5
}
